{
 "cells": [
  {
   "cell_type": "code",
   "execution_count": null,
   "id": "adca590a-dea7-43c4-92cf-fcdc9f6f24da",
   "metadata": {},
   "outputs": [],
   "source": [
    "calculadora <- function() {\n",
    "    cat(\"=================\\n\")\n",
    "  cat(\"Bienvenido, GUAPO\\n\")\n",
    "    cat(\"=================\\n\")\n",
    "  num1 <- as.numeric(readline(prompt = \"número: \"))\n",
    "\n",
    "  num2 <- as.numeric(readline(prompt = \"número: \"))\n",
    "  \n",
    "cat(\"==========================\\n\")\n",
    "cat(\"Seleccione la operación que desea realizar:\\n\")\n",
    "cat(\"1: +\\n\")\n",
    "cat(\"2: -\\n\")\n",
    "cat(\"3: *\\n\")\n",
    "cat(\"4: ÷\\n\")\n",
    "cat(\"==========================\\n\")\n",
    "  \n",
    "  # Leer la operación seleccionada\n",
    "  operacion <- as.numeric(readline(prompt = \"cual tipo: \"))\n",
    "  \n",
    "  # Realizar la operación\n",
    "  resultado <- switch(operacion,\n",
    "                      `1` = num1 + num2,\n",
    "                      `2` = num1 - num2,\n",
    "                      `3` = num1 * num2,\n",
    "                      `4` = ifelse(num2 != 0, num1 / num2, \"Error: División por cero\"),\n",
    "                      \"Operación no válida\")\n",
    "  \n",
    "  # Mostrar el resultado\n",
    "    cat(\"*************************\\n\")\n",
    "  cat(\"respuesta: \", resultado, \"\\n\")\n",
    "    cat(\"*************************\\n\")\n",
    "}\n",
    "\n",
    "# Ejecutar la calculadora\n",
    "calculadora()\n"
   ]
  },
  {
   "cell_type": "code",
   "execution_count": null,
   "id": "9851a65a-314f-49d7-94f5-6445d75c9809",
   "metadata": {},
   "outputs": [],
   "source": []
  }
 ],
 "metadata": {
  "kernelspec": {
   "display_name": "R",
   "language": "R",
   "name": "ir"
  },
  "language_info": {
   "codemirror_mode": "r",
   "file_extension": ".r",
   "mimetype": "text/x-r-source",
   "name": "R",
   "pygments_lexer": "r",
   "version": "4.4.0"
  }
 },
 "nbformat": 4,
 "nbformat_minor": 5
}
